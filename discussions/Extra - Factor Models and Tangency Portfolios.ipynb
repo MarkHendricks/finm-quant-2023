{
 "cells": [
  {
   "cell_type": "markdown",
   "id": "c2f32b1b",
   "metadata": {},
   "source": [
    "# Factor Models and the Tangency\n",
    "\n",
    "## Weight on the Tangency portfolio\n",
    "\n",
    "Above we looked at the tangency portfolio weights of the securities and factors.\n",
    "\n",
    "Are these weights \"significant\"? That is, are we sure that these weights are not just the 4 factors plus random noise?\n",
    "\n",
    "It turns out that running OLS of y=1 on X = returns gives us the tangency weights. (They are a scaled version, but that doesn't matter.) \n",
    "\n",
    "Since this comes from regression betas, we also automatically get the t-stats and p-values. If the p-values are less than .05, then we say the regressor is statistically significant at the 5th percentile.\n",
    "\n",
    "Let's see whether the factors are the only significant weights when included with the equities."
   ]
  },
  {
   "cell_type": "code",
   "execution_count": 1,
   "id": "220eec06",
   "metadata": {},
   "outputs": [],
   "source": [
    "import pandas as pd\n",
    "import numpy as np\n",
    "import statsmodels.api as sm\n",
    "from sklearn.linear_model import LinearRegression\n",
    "import seaborn as sns\n",
    "import matplotlib.pyplot as plt\n",
    "\n",
    "import sys\n",
    "sys.path.insert(0, '../cmds')\n",
    "from portfolio import *"
   ]
  },
  {
   "cell_type": "code",
   "execution_count": 2,
   "id": "23dbcfd0",
   "metadata": {},
   "outputs": [],
   "source": [
    "facs = pd.read_excel('../data/factor_pricing_data.xlsx',sheet_name='factors (excess)').set_index('Date')\n",
    "assets = pd.read_excel('../data/factor_pricing_data.xlsx',sheet_name='assets (excess)').set_index('Date')\n",
    "\n",
    "FREQ = 12"
   ]
  },
  {
   "cell_type": "code",
   "execution_count": 3,
   "id": "f2fda157",
   "metadata": {},
   "outputs": [
    {
     "data": {
      "text/html": [
       "<style  type=\"text/css\" >\n",
       "</style><table id=\"T_50ceb_\" ><thead>    <tr>        <th class=\"blank level0\" ></th>        <th class=\"col_heading level0 col0\" >NoDur</th>        <th class=\"col_heading level0 col1\" >Durbl</th>        <th class=\"col_heading level0 col2\" >Manuf</th>        <th class=\"col_heading level0 col3\" >Enrgy</th>        <th class=\"col_heading level0 col4\" >Chems</th>        <th class=\"col_heading level0 col5\" >BusEq</th>        <th class=\"col_heading level0 col6\" >Telcm</th>        <th class=\"col_heading level0 col7\" >Utils</th>        <th class=\"col_heading level0 col8\" >Shops</th>        <th class=\"col_heading level0 col9\" >Hlth</th>        <th class=\"col_heading level0 col10\" >Money</th>        <th class=\"col_heading level0 col11\" >Other</th>        <th class=\"col_heading level0 col12\" >MKT</th>        <th class=\"col_heading level0 col13\" >SMB</th>        <th class=\"col_heading level0 col14\" >HML</th>        <th class=\"col_heading level0 col15\" >UMD</th>    </tr></thead><tbody>\n",
       "                <tr>\n",
       "                        <th id=\"T_50ceb_level0_row0\" class=\"row_heading level0 row0\" >p-values</th>\n",
       "                        <td id=\"T_50ceb_row0_col0\" class=\"data row0 col0\" >26.48%</td>\n",
       "                        <td id=\"T_50ceb_row0_col1\" class=\"data row0 col1\" >22.90%</td>\n",
       "                        <td id=\"T_50ceb_row0_col2\" class=\"data row0 col2\" >5.43%</td>\n",
       "                        <td id=\"T_50ceb_row0_col3\" class=\"data row0 col3\" >19.71%</td>\n",
       "                        <td id=\"T_50ceb_row0_col4\" class=\"data row0 col4\" >17.81%</td>\n",
       "                        <td id=\"T_50ceb_row0_col5\" class=\"data row0 col5\" >0.00%</td>\n",
       "                        <td id=\"T_50ceb_row0_col6\" class=\"data row0 col6\" >26.97%</td>\n",
       "                        <td id=\"T_50ceb_row0_col7\" class=\"data row0 col7\" >7.35%</td>\n",
       "                        <td id=\"T_50ceb_row0_col8\" class=\"data row0 col8\" >1.55%</td>\n",
       "                        <td id=\"T_50ceb_row0_col9\" class=\"data row0 col9\" >0.20%</td>\n",
       "                        <td id=\"T_50ceb_row0_col10\" class=\"data row0 col10\" >14.33%</td>\n",
       "                        <td id=\"T_50ceb_row0_col11\" class=\"data row0 col11\" >0.48%</td>\n",
       "                        <td id=\"T_50ceb_row0_col12\" class=\"data row0 col12\" >0.42%</td>\n",
       "                        <td id=\"T_50ceb_row0_col13\" class=\"data row0 col13\" >26.71%</td>\n",
       "                        <td id=\"T_50ceb_row0_col14\" class=\"data row0 col14\" >3.34%</td>\n",
       "                        <td id=\"T_50ceb_row0_col15\" class=\"data row0 col15\" >0.01%</td>\n",
       "            </tr>\n",
       "    </tbody></table>"
      ],
      "text/plain": [
       "<pandas.io.formats.style.Styler at 0x107777e20>"
      ]
     },
     "execution_count": 3,
     "metadata": {},
     "output_type": "execute_result"
    }
   ],
   "source": [
    "temp = sm.add_constant(assets.join(facs))\n",
    "X = temp.drop(columns=['const'])\n",
    "y = temp[['const']]\n",
    "mod = sm.OLS(y,X).fit()\n",
    "pvals = mod.pvalues.to_frame()\n",
    "pvals.columns = ['p-values']\n",
    "pvals.T.style.format('{:.2%}')"
   ]
  },
  {
   "cell_type": "markdown",
   "id": "ebaa44b5",
   "metadata": {},
   "source": [
    "The p-values for MKT, HML, and UMD are less than .05, saying they're significant in testing. \n",
    "\n",
    "However, we also see significance (p-value less than .05) in many of the test assets."
   ]
  },
  {
   "cell_type": "markdown",
   "id": "9249155d",
   "metadata": {},
   "source": [
    "### Do the extra 3 factors beyond the CAPM help much?\n",
    "\n",
    "We could see whether the tangency portfolio is improved much by using the four factors (versus just using MKT.)"
   ]
  },
  {
   "cell_type": "code",
   "execution_count": 4,
   "id": "d2a4c5f2",
   "metadata": {},
   "outputs": [
    {
     "data": {
      "text/html": [
       "<style  type=\"text/css\" >\n",
       "</style><table id=\"T_8bf10_\" ><thead>    <tr>        <th class=\"blank level0\" ></th>        <th class=\"col_heading level0 col0\" >MKT</th>        <th class=\"col_heading level0 col1\" >SMB</th>        <th class=\"col_heading level0 col2\" >HML</th>        <th class=\"col_heading level0 col3\" >UMD</th>    </tr></thead><tbody>\n",
       "                <tr>\n",
       "                        <th id=\"T_8bf10_level0_row0\" class=\"row_heading level0 row0\" >p-values</th>\n",
       "                        <td id=\"T_8bf10_row0_col0\" class=\"data row0 col0\" >0.00%</td>\n",
       "                        <td id=\"T_8bf10_row0_col1\" class=\"data row0 col1\" >97.40%</td>\n",
       "                        <td id=\"T_8bf10_row0_col2\" class=\"data row0 col2\" >2.83%</td>\n",
       "                        <td id=\"T_8bf10_row0_col3\" class=\"data row0 col3\" >0.06%</td>\n",
       "            </tr>\n",
       "    </tbody></table>"
      ],
      "text/plain": [
       "<pandas.io.formats.style.Styler at 0x1076e9310>"
      ]
     },
     "execution_count": 4,
     "metadata": {},
     "output_type": "execute_result"
    }
   ],
   "source": [
    "temp = sm.add_constant(facs)\n",
    "X = temp[['MKT','SMB','HML','UMD']]\n",
    "y = temp[['const']]\n",
    "\n",
    "mod = sm.OLS(y,X).fit()\n",
    "pvals = mod.pvalues.to_frame()\n",
    "pvals.columns = ['p-values']\n",
    "pvals.T.style.format('{:.2%}')"
   ]
  },
  {
   "cell_type": "markdown",
   "id": "74d6a020",
   "metadata": {},
   "source": [
    "It appears that the size factor, SMB, is not significant at any interesting level.\n",
    "\n",
    "So why is the size factors used in pricing? It seems to help when we test large \n",
    "\n",
    "But hopefully this also helps illustrate why CAPM is still the baseline for many applications."
   ]
  }
 ],
 "metadata": {
  "hide_input": false,
  "kernelspec": {
   "display_name": "Python 3",
   "language": "python",
   "name": "python3"
  },
  "language_info": {
   "codemirror_mode": {
    "name": "ipython",
    "version": 3
   },
   "file_extension": ".py",
   "mimetype": "text/x-python",
   "name": "python",
   "nbconvert_exporter": "python",
   "pygments_lexer": "ipython3",
   "version": "3.9.7"
  }
 },
 "nbformat": 4,
 "nbformat_minor": 5
}
