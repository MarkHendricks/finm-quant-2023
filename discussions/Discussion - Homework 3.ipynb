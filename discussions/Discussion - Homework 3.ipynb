{
 "cells": [
  {
   "cell_type": "markdown",
   "metadata": {},
   "source": [
    "# Homework 3\n",
    "## Mark Hendricks - Discussion"
   ]
  },
  {
   "cell_type": "markdown",
   "metadata": {},
   "source": [
    "# Prepare the Data"
   ]
  },
  {
   "cell_type": "code",
   "execution_count": 1,
   "metadata": {},
   "outputs": [],
   "source": [
    "import pandas as pd\n",
    "import numpy as np\n",
    "import statsmodels.api as sm\n",
    "from sklearn.linear_model import LinearRegression\n",
    "import seaborn as sns\n",
    "import matplotlib.pyplot as plt\n",
    "\n",
    "import sys\n",
    "sys.path.insert(0, '../cmds')\n",
    "from portfolio import *"
   ]
  },
  {
   "cell_type": "code",
   "execution_count": 2,
   "metadata": {},
   "outputs": [],
   "source": [
    "facs = pd.read_excel('../data/factor_pricing_data.xlsx',sheet_name='factors (excess)').set_index('Date')\n",
    "assets = pd.read_excel('../data/factor_pricing_data.xlsx',sheet_name='assets (excess)').set_index('Date')\n",
    "\n",
    "FREQ = 12"
   ]
  },
  {
   "cell_type": "code",
   "execution_count": 3,
   "metadata": {},
   "outputs": [
    {
     "data": {
      "text/html": [
       "<div>\n",
       "<style scoped>\n",
       "    .dataframe tbody tr th:only-of-type {\n",
       "        vertical-align: middle;\n",
       "    }\n",
       "\n",
       "    .dataframe tbody tr th {\n",
       "        vertical-align: top;\n",
       "    }\n",
       "\n",
       "    .dataframe thead th {\n",
       "        text-align: right;\n",
       "    }\n",
       "</style>\n",
       "<table border=\"1\" class=\"dataframe\">\n",
       "  <thead>\n",
       "    <tr style=\"text-align: right;\">\n",
       "      <th></th>\n",
       "      <th>NoDur</th>\n",
       "      <th>Durbl</th>\n",
       "      <th>Manuf</th>\n",
       "      <th>Enrgy</th>\n",
       "      <th>Chems</th>\n",
       "      <th>BusEq</th>\n",
       "      <th>Telcm</th>\n",
       "      <th>Utils</th>\n",
       "      <th>Shops</th>\n",
       "      <th>Hlth</th>\n",
       "      <th>Money</th>\n",
       "      <th>Other</th>\n",
       "    </tr>\n",
       "    <tr>\n",
       "      <th>Date</th>\n",
       "      <th></th>\n",
       "      <th></th>\n",
       "      <th></th>\n",
       "      <th></th>\n",
       "      <th></th>\n",
       "      <th></th>\n",
       "      <th></th>\n",
       "      <th></th>\n",
       "      <th></th>\n",
       "      <th></th>\n",
       "      <th></th>\n",
       "      <th></th>\n",
       "    </tr>\n",
       "  </thead>\n",
       "  <tbody>\n",
       "    <tr>\n",
       "      <th>2021-12-31</th>\n",
       "      <td>0.0804</td>\n",
       "      <td>-0.0445</td>\n",
       "      <td>0.0414</td>\n",
       "      <td>0.0308</td>\n",
       "      <td>0.0959</td>\n",
       "      <td>0.0177</td>\n",
       "      <td>0.0385</td>\n",
       "      <td>0.0856</td>\n",
       "      <td>0.0133</td>\n",
       "      <td>0.0673</td>\n",
       "      <td>0.0484</td>\n",
       "      <td>0.0529</td>\n",
       "    </tr>\n",
       "    <tr>\n",
       "      <th>2022-01-31</th>\n",
       "      <td>-0.0067</td>\n",
       "      <td>-0.1015</td>\n",
       "      <td>-0.0557</td>\n",
       "      <td>0.1735</td>\n",
       "      <td>-0.0625</td>\n",
       "      <td>-0.0827</td>\n",
       "      <td>-0.0199</td>\n",
       "      <td>-0.0210</td>\n",
       "      <td>-0.0895</td>\n",
       "      <td>-0.0860</td>\n",
       "      <td>-0.0062</td>\n",
       "      <td>-0.0621</td>\n",
       "    </tr>\n",
       "    <tr>\n",
       "      <th>2022-02-28</th>\n",
       "      <td>-0.0053</td>\n",
       "      <td>-0.0721</td>\n",
       "      <td>-0.0016</td>\n",
       "      <td>0.0808</td>\n",
       "      <td>-0.0347</td>\n",
       "      <td>-0.0514</td>\n",
       "      <td>0.0026</td>\n",
       "      <td>-0.0111</td>\n",
       "      <td>-0.0155</td>\n",
       "      <td>-0.0105</td>\n",
       "      <td>-0.0166</td>\n",
       "      <td>0.0022</td>\n",
       "    </tr>\n",
       "    <tr>\n",
       "      <th>2022-03-31</th>\n",
       "      <td>0.0041</td>\n",
       "      <td>0.1476</td>\n",
       "      <td>0.0128</td>\n",
       "      <td>0.0998</td>\n",
       "      <td>0.0002</td>\n",
       "      <td>0.0330</td>\n",
       "      <td>-0.0247</td>\n",
       "      <td>0.0968</td>\n",
       "      <td>0.0303</td>\n",
       "      <td>0.0515</td>\n",
       "      <td>-0.0096</td>\n",
       "      <td>0.0505</td>\n",
       "    </tr>\n",
       "    <tr>\n",
       "      <th>2022-04-30</th>\n",
       "      <td>0.0226</td>\n",
       "      <td>-0.1693</td>\n",
       "      <td>-0.0791</td>\n",
       "      <td>-0.0110</td>\n",
       "      <td>0.0052</td>\n",
       "      <td>-0.1266</td>\n",
       "      <td>-0.1071</td>\n",
       "      <td>-0.0371</td>\n",
       "      <td>-0.0990</td>\n",
       "      <td>-0.0674</td>\n",
       "      <td>-0.0795</td>\n",
       "      <td>-0.1025</td>\n",
       "    </tr>\n",
       "  </tbody>\n",
       "</table>\n",
       "</div>"
      ],
      "text/plain": [
       "             NoDur   Durbl   Manuf   Enrgy   Chems   BusEq   Telcm   Utils  \\\n",
       "Date                                                                         \n",
       "2021-12-31  0.0804 -0.0445  0.0414  0.0308  0.0959  0.0177  0.0385  0.0856   \n",
       "2022-01-31 -0.0067 -0.1015 -0.0557  0.1735 -0.0625 -0.0827 -0.0199 -0.0210   \n",
       "2022-02-28 -0.0053 -0.0721 -0.0016  0.0808 -0.0347 -0.0514  0.0026 -0.0111   \n",
       "2022-03-31  0.0041  0.1476  0.0128  0.0998  0.0002  0.0330 -0.0247  0.0968   \n",
       "2022-04-30  0.0226 -0.1693 -0.0791 -0.0110  0.0052 -0.1266 -0.1071 -0.0371   \n",
       "\n",
       "             Shops    Hlth   Money   Other  \n",
       "Date                                        \n",
       "2021-12-31  0.0133  0.0673  0.0484  0.0529  \n",
       "2022-01-31 -0.0895 -0.0860 -0.0062 -0.0621  \n",
       "2022-02-28 -0.0155 -0.0105 -0.0166  0.0022  \n",
       "2022-03-31  0.0303  0.0515 -0.0096  0.0505  \n",
       "2022-04-30 -0.0990 -0.0674 -0.0795 -0.1025  "
      ]
     },
     "metadata": {},
     "output_type": "display_data"
    },
    {
     "data": {
      "text/html": [
       "<div>\n",
       "<style scoped>\n",
       "    .dataframe tbody tr th:only-of-type {\n",
       "        vertical-align: middle;\n",
       "    }\n",
       "\n",
       "    .dataframe tbody tr th {\n",
       "        vertical-align: top;\n",
       "    }\n",
       "\n",
       "    .dataframe thead th {\n",
       "        text-align: right;\n",
       "    }\n",
       "</style>\n",
       "<table border=\"1\" class=\"dataframe\">\n",
       "  <thead>\n",
       "    <tr style=\"text-align: right;\">\n",
       "      <th></th>\n",
       "      <th>MKT</th>\n",
       "      <th>SMB</th>\n",
       "      <th>HML</th>\n",
       "      <th>UMD</th>\n",
       "    </tr>\n",
       "    <tr>\n",
       "      <th>Date</th>\n",
       "      <th></th>\n",
       "      <th></th>\n",
       "      <th></th>\n",
       "      <th></th>\n",
       "    </tr>\n",
       "  </thead>\n",
       "  <tbody>\n",
       "    <tr>\n",
       "      <th>2021-12-31</th>\n",
       "      <td>0.0310</td>\n",
       "      <td>-0.0160</td>\n",
       "      <td>0.0322</td>\n",
       "      <td>-0.0260</td>\n",
       "    </tr>\n",
       "    <tr>\n",
       "      <th>2022-01-31</th>\n",
       "      <td>-0.0625</td>\n",
       "      <td>-0.0593</td>\n",
       "      <td>0.1274</td>\n",
       "      <td>-0.0250</td>\n",
       "    </tr>\n",
       "    <tr>\n",
       "      <th>2022-02-28</th>\n",
       "      <td>-0.0229</td>\n",
       "      <td>0.0218</td>\n",
       "      <td>0.0309</td>\n",
       "      <td>0.0175</td>\n",
       "    </tr>\n",
       "    <tr>\n",
       "      <th>2022-03-31</th>\n",
       "      <td>0.0306</td>\n",
       "      <td>-0.0161</td>\n",
       "      <td>-0.0182</td>\n",
       "      <td>0.0298</td>\n",
       "    </tr>\n",
       "    <tr>\n",
       "      <th>2022-04-30</th>\n",
       "      <td>-0.0944</td>\n",
       "      <td>-0.0140</td>\n",
       "      <td>0.0616</td>\n",
       "      <td>0.0482</td>\n",
       "    </tr>\n",
       "  </tbody>\n",
       "</table>\n",
       "</div>"
      ],
      "text/plain": [
       "               MKT     SMB     HML     UMD\n",
       "Date                                      \n",
       "2021-12-31  0.0310 -0.0160  0.0322 -0.0260\n",
       "2022-01-31 -0.0625 -0.0593  0.1274 -0.0250\n",
       "2022-02-28 -0.0229  0.0218  0.0309  0.0175\n",
       "2022-03-31  0.0306 -0.0161 -0.0182  0.0298\n",
       "2022-04-30 -0.0944 -0.0140  0.0616  0.0482"
      ]
     },
     "metadata": {},
     "output_type": "display_data"
    }
   ],
   "source": [
    "display(assets.tail())\n",
    "display(facs.tail())"
   ]
  },
  {
   "cell_type": "markdown",
   "metadata": {},
   "source": [
    "# 2. Pricing Factor Stats"
   ]
  },
  {
   "cell_type": "code",
   "execution_count": 4,
   "metadata": {},
   "outputs": [
    {
     "data": {
      "text/html": [
       "<style  type=\"text/css\" >\n",
       "</style><table id=\"T_1ed0e_\" ><thead>    <tr>        <th class=\"blank level0\" ></th>        <th class=\"col_heading level0 col0\" >Mean</th>        <th class=\"col_heading level0 col1\" >Vol</th>        <th class=\"col_heading level0 col2\" >Sharpe</th>        <th class=\"col_heading level0 col3\" >Min</th>        <th class=\"col_heading level0 col4\" >Max</th>    </tr></thead><tbody>\n",
       "                <tr>\n",
       "                        <th id=\"T_1ed0e_level0_row0\" class=\"row_heading level0 row0\" >MKT</th>\n",
       "                        <td id=\"T_1ed0e_row0_col0\" class=\"data row0 col0\" >8.4%</td>\n",
       "                        <td id=\"T_1ed0e_row0_col1\" class=\"data row0 col1\" >15.2%</td>\n",
       "                        <td id=\"T_1ed0e_row0_col2\" class=\"data row0 col2\" >55.5%</td>\n",
       "                        <td id=\"T_1ed0e_row0_col3\" class=\"data row0 col3\" >-17.2%</td>\n",
       "                        <td id=\"T_1ed0e_row0_col4\" class=\"data row0 col4\" >13.7%</td>\n",
       "            </tr>\n",
       "            <tr>\n",
       "                        <th id=\"T_1ed0e_level0_row1\" class=\"row_heading level0 row1\" >SMB</th>\n",
       "                        <td id=\"T_1ed0e_row1_col0\" class=\"data row1 col0\" >1.2%</td>\n",
       "                        <td id=\"T_1ed0e_row1_col1\" class=\"data row1 col1\" >11.0%</td>\n",
       "                        <td id=\"T_1ed0e_row1_col2\" class=\"data row1 col2\" >11.1%</td>\n",
       "                        <td id=\"T_1ed0e_row1_col3\" class=\"data row1 col3\" >-17.3%</td>\n",
       "                        <td id=\"T_1ed0e_row1_col4\" class=\"data row1 col4\" >21.5%</td>\n",
       "            </tr>\n",
       "            <tr>\n",
       "                        <th id=\"T_1ed0e_level0_row2\" class=\"row_heading level0 row2\" >HML</th>\n",
       "                        <td id=\"T_1ed0e_row2_col0\" class=\"data row2 col0\" >1.8%</td>\n",
       "                        <td id=\"T_1ed0e_row2_col1\" class=\"data row2 col1\" >11.1%</td>\n",
       "                        <td id=\"T_1ed0e_row2_col2\" class=\"data row2 col2\" >16.4%</td>\n",
       "                        <td id=\"T_1ed0e_row2_col3\" class=\"data row2 col3\" >-13.9%</td>\n",
       "                        <td id=\"T_1ed0e_row2_col4\" class=\"data row2 col4\" >12.7%</td>\n",
       "            </tr>\n",
       "            <tr>\n",
       "                        <th id=\"T_1ed0e_level0_row3\" class=\"row_heading level0 row3\" >UMD</th>\n",
       "                        <td id=\"T_1ed0e_row3_col0\" class=\"data row3 col0\" >5.7%</td>\n",
       "                        <td id=\"T_1ed0e_row3_col1\" class=\"data row3 col1\" >16.3%</td>\n",
       "                        <td id=\"T_1ed0e_row3_col2\" class=\"data row3 col2\" >35.1%</td>\n",
       "                        <td id=\"T_1ed0e_row3_col3\" class=\"data row3 col3\" >-34.3%</td>\n",
       "                        <td id=\"T_1ed0e_row3_col4\" class=\"data row3 col4\" >18.2%</td>\n",
       "            </tr>\n",
       "    </tbody></table>"
      ],
      "text/plain": [
       "<pandas.io.formats.style.Styler at 0x121e22c10>"
      ]
     },
     "metadata": {},
     "output_type": "display_data"
    }
   ],
   "source": [
    "display(performanceMetrics(facs,annualization=12).style.format('{:.1%}'))"
   ]
  },
  {
   "cell_type": "code",
   "execution_count": 5,
   "metadata": {},
   "outputs": [
    {
     "data": {
      "text/html": [
       "<style  type=\"text/css\" >\n",
       "</style><table id=\"T_23c28_\" ><thead>    <tr>        <th class=\"blank level0\" ></th>        <th class=\"col_heading level0 col0\" >Skewness</th>        <th class=\"col_heading level0 col1\" >Kurtosis</th>        <th class=\"col_heading level0 col2\" >VaR (0.05)</th>        <th class=\"col_heading level0 col3\" >CVaR (0.05)</th>        <th class=\"col_heading level0 col4\" >Max Drawdown</th>        <th class=\"col_heading level0 col5\" >Peak</th>        <th class=\"col_heading level0 col6\" >Bottom</th>        <th class=\"col_heading level0 col7\" >Recover</th>        <th class=\"col_heading level0 col8\" >Duration (to Recover)</th>    </tr></thead><tbody>\n",
       "                <tr>\n",
       "                        <th id=\"T_23c28_level0_row0\" class=\"row_heading level0 row0\" >MKT</th>\n",
       "                        <td id=\"T_23c28_row0_col0\" class=\"data row0 col0\" >-0.60</td>\n",
       "                        <td id=\"T_23c28_row0_col1\" class=\"data row0 col1\" >1.25</td>\n",
       "                        <td id=\"T_23c28_row0_col2\" class=\"data row0 col2\" >-7.6%</td>\n",
       "                        <td id=\"T_23c28_row0_col3\" class=\"data row0 col3\" >-10.0%</td>\n",
       "                        <td id=\"T_23c28_row0_col4\" class=\"data row0 col4\" >-54.4%</td>\n",
       "                        <td id=\"T_23c28_row0_col5\" class=\"data row0 col5\" >2000-03-31 00:00:00</td>\n",
       "                        <td id=\"T_23c28_row0_col6\" class=\"data row0 col6\" >2009-02-28 00:00:00</td>\n",
       "                        <td id=\"T_23c28_row0_col7\" class=\"data row0 col7\" >2013-01-31 00:00:00</td>\n",
       "                        <td id=\"T_23c28_row0_col8\" class=\"data row0 col8\" >4689 days 00:00:00</td>\n",
       "            </tr>\n",
       "            <tr>\n",
       "                        <th id=\"T_23c28_level0_row1\" class=\"row_heading level0 row1\" >SMB</th>\n",
       "                        <td id=\"T_23c28_row1_col0\" class=\"data row1 col0\" >0.63</td>\n",
       "                        <td id=\"T_23c28_row1_col1\" class=\"data row1 col1\" >7.31</td>\n",
       "                        <td id=\"T_23c28_row1_col2\" class=\"data row1 col2\" >-4.3%</td>\n",
       "                        <td id=\"T_23c28_row1_col3\" class=\"data row1 col3\" >-6.0%</td>\n",
       "                        <td id=\"T_23c28_row1_col4\" class=\"data row1 col4\" >-41.2%</td>\n",
       "                        <td id=\"T_23c28_row1_col5\" class=\"data row1 col5\" >1994-02-28 00:00:00</td>\n",
       "                        <td id=\"T_23c28_row1_col6\" class=\"data row1 col6\" >1999-03-31 00:00:00</td>\n",
       "                        <td id=\"T_23c28_row1_col7\" class=\"data row1 col7\" >2003-08-31 00:00:00</td>\n",
       "                        <td id=\"T_23c28_row1_col8\" class=\"data row1 col8\" >3471 days 00:00:00</td>\n",
       "            </tr>\n",
       "            <tr>\n",
       "                        <th id=\"T_23c28_level0_row2\" class=\"row_heading level0 row2\" >HML</th>\n",
       "                        <td id=\"T_23c28_row2_col0\" class=\"data row2 col0\" >0.22</td>\n",
       "                        <td id=\"T_23c28_row2_col1\" class=\"data row2 col1\" >2.63</td>\n",
       "                        <td id=\"T_23c28_row2_col2\" class=\"data row2 col2\" >-4.2%</td>\n",
       "                        <td id=\"T_23c28_row2_col3\" class=\"data row2 col3\" >-6.7%</td>\n",
       "                        <td id=\"T_23c28_row2_col4\" class=\"data row2 col4\" >-58.5%</td>\n",
       "                        <td id=\"T_23c28_row2_col5\" class=\"data row2 col5\" >2006-12-31 00:00:00</td>\n",
       "                        <td id=\"T_23c28_row2_col6\" class=\"data row2 col6\" >2020-09-30 00:00:00</td>\n",
       "                        <td id=\"T_23c28_row2_col7\" class=\"data row2 col7\" >NaT</td>\n",
       "                        <td id=\"T_23c28_row2_col8\" class=\"data row2 col8\" >NaT</td>\n",
       "            </tr>\n",
       "            <tr>\n",
       "                        <th id=\"T_23c28_level0_row3\" class=\"row_heading level0 row3\" >UMD</th>\n",
       "                        <td id=\"T_23c28_row3_col0\" class=\"data row3 col0\" >-1.44</td>\n",
       "                        <td id=\"T_23c28_row3_col1\" class=\"data row3 col1\" >10.39</td>\n",
       "                        <td id=\"T_23c28_row3_col2\" class=\"data row3 col2\" >-7.1%</td>\n",
       "                        <td id=\"T_23c28_row3_col3\" class=\"data row3 col3\" >-11.6%</td>\n",
       "                        <td id=\"T_23c28_row3_col4\" class=\"data row3 col4\" >-57.7%</td>\n",
       "                        <td id=\"T_23c28_row3_col5\" class=\"data row3 col5\" >2008-11-30 00:00:00</td>\n",
       "                        <td id=\"T_23c28_row3_col6\" class=\"data row3 col6\" >2009-09-30 00:00:00</td>\n",
       "                        <td id=\"T_23c28_row3_col7\" class=\"data row3 col7\" >NaT</td>\n",
       "                        <td id=\"T_23c28_row3_col8\" class=\"data row3 col8\" >NaT</td>\n",
       "            </tr>\n",
       "    </tbody></table>"
      ],
      "text/plain": [
       "<pandas.io.formats.style.Styler at 0x103742b20>"
      ]
     },
     "execution_count": 5,
     "metadata": {},
     "output_type": "execute_result"
    }
   ],
   "source": [
    "THRESH = .05\n",
    "tailMetrics(facs,quantile=THRESH).style.format({\n",
    "    'Skewness':'{:.2f}',\n",
    "    'Kurtosis':'{:.2f}',\n",
    "    'VaR (0.05)':'{:.1%}',\n",
    "    'CVaR (0.05)':'{:.1%}',\n",
    "    'Max Drawdown':'{:.1%}'\n",
    "})"
   ]
  },
  {
   "cell_type": "code",
   "execution_count": 6,
   "metadata": {},
   "outputs": [
    {
     "data": {
      "image/png": "[encoded data removed]",
      "text/plain": [
       "<Figure size 432x288 with 2 Axes>"
      ]
     },
     "metadata": {
      "needs_background": "light"
     },
     "output_type": "display_data"
    }
   ],
   "source": [
    "sns.heatmap(facs.corr().replace(1,np.nan));"
   ]
  },
  {
   "cell_type": "code",
   "execution_count": 7,
   "metadata": {},
   "outputs": [
    {
     "data": {
      "image/png": "[encoded data removed]",
      "text/plain": [
       "<Figure size 864x504 with 1 Axes>"
      ]
     },
     "metadata": {
      "needs_background": "light"
     },
     "output_type": "display_data"
    }
   ],
   "source": [
    "(facs+1).cumprod().plot(figsize=(12,7));"
   ]
  },
  {
   "cell_type": "code",
   "execution_count": 8,
   "metadata": {},
   "outputs": [
    {
     "data": {
      "text/html": [
       "<style  type=\"text/css\" >\n",
       "</style><table id=\"T_14136_\" ><thead>    <tr>        <th class=\"blank level0\" ></th>        <th class=\"col_heading level0 col0\" >Mean</th>        <th class=\"col_heading level0 col1\" >Vol</th>        <th class=\"col_heading level0 col2\" >Sharpe</th>        <th class=\"col_heading level0 col3\" >Min</th>        <th class=\"col_heading level0 col4\" >Max</th>    </tr></thead><tbody>\n",
       "                <tr>\n",
       "                        <th id=\"T_14136_level0_row0\" class=\"row_heading level0 row0\" >NoDur</th>\n",
       "                        <td id=\"T_14136_row0_col0\" class=\"data row0 col0\" >8.6%</td>\n",
       "                        <td id=\"T_14136_row0_col1\" class=\"data row0 col1\" >13.2%</td>\n",
       "                        <td id=\"T_14136_row0_col2\" class=\"data row0 col2\" >65.1%</td>\n",
       "                        <td id=\"T_14136_row0_col3\" class=\"data row0 col3\" >-13.4%</td>\n",
       "                        <td id=\"T_14136_row0_col4\" class=\"data row0 col4\" >14.2%</td>\n",
       "            </tr>\n",
       "            <tr>\n",
       "                        <th id=\"T_14136_level0_row1\" class=\"row_heading level0 row1\" >Durbl</th>\n",
       "                        <td id=\"T_14136_row1_col0\" class=\"data row1 col0\" >10.6%</td>\n",
       "                        <td id=\"T_14136_row1_col1\" class=\"data row1 col1\" >27.0%</td>\n",
       "                        <td id=\"T_14136_row1_col2\" class=\"data row1 col2\" >39.4%</td>\n",
       "                        <td id=\"T_14136_row1_col3\" class=\"data row1 col3\" >-33.0%</td>\n",
       "                        <td id=\"T_14136_row1_col4\" class=\"data row1 col4\" >45.3%</td>\n",
       "            </tr>\n",
       "            <tr>\n",
       "                        <th id=\"T_14136_level0_row2\" class=\"row_heading level0 row2\" >Manuf</th>\n",
       "                        <td id=\"T_14136_row2_col0\" class=\"data row2 col0\" >10.1%</td>\n",
       "                        <td id=\"T_14136_row2_col1\" class=\"data row2 col1\" >18.5%</td>\n",
       "                        <td id=\"T_14136_row2_col2\" class=\"data row2 col2\" >54.7%</td>\n",
       "                        <td id=\"T_14136_row2_col3\" class=\"data row2 col3\" >-23.7%</td>\n",
       "                        <td id=\"T_14136_row2_col4\" class=\"data row2 col4\" >20.8%</td>\n",
       "            </tr>\n",
       "            <tr>\n",
       "                        <th id=\"T_14136_level0_row3\" class=\"row_heading level0 row3\" >Enrgy</th>\n",
       "                        <td id=\"T_14136_row3_col0\" class=\"data row3 col0\" >8.7%</td>\n",
       "                        <td id=\"T_14136_row3_col1\" class=\"data row3 col1\" >22.0%</td>\n",
       "                        <td id=\"T_14136_row3_col2\" class=\"data row3 col2\" >39.5%</td>\n",
       "                        <td id=\"T_14136_row3_col3\" class=\"data row3 col3\" >-34.6%</td>\n",
       "                        <td id=\"T_14136_row3_col4\" class=\"data row3 col4\" >32.4%</td>\n",
       "            </tr>\n",
       "            <tr>\n",
       "                        <th id=\"T_14136_level0_row4\" class=\"row_heading level0 row4\" >Chems</th>\n",
       "                        <td id=\"T_14136_row4_col0\" class=\"data row4 col0\" >8.6%</td>\n",
       "                        <td id=\"T_14136_row4_col1\" class=\"data row4 col1\" >14.8%</td>\n",
       "                        <td id=\"T_14136_row4_col2\" class=\"data row4 col2\" >58.1%</td>\n",
       "                        <td id=\"T_14136_row4_col3\" class=\"data row4 col3\" >-15.7%</td>\n",
       "                        <td id=\"T_14136_row4_col4\" class=\"data row4 col4\" >12.6%</td>\n",
       "            </tr>\n",
       "            <tr>\n",
       "                        <th id=\"T_14136_level0_row5\" class=\"row_heading level0 row5\" >BusEq</th>\n",
       "                        <td id=\"T_14136_row5_col0\" class=\"data row5 col0\" >12.5%</td>\n",
       "                        <td id=\"T_14136_row5_col1\" class=\"data row5 col1\" >23.5%</td>\n",
       "                        <td id=\"T_14136_row5_col2\" class=\"data row5 col2\" >53.1%</td>\n",
       "                        <td id=\"T_14136_row5_col3\" class=\"data row5 col3\" >-26.4%</td>\n",
       "                        <td id=\"T_14136_row5_col4\" class=\"data row5 col4\" >20.3%</td>\n",
       "            </tr>\n",
       "            <tr>\n",
       "                        <th id=\"T_14136_level0_row6\" class=\"row_heading level0 row6\" >Telcm</th>\n",
       "                        <td id=\"T_14136_row6_col0\" class=\"data row6 col0\" >5.5%</td>\n",
       "                        <td id=\"T_14136_row6_col1\" class=\"data row6 col1\" >17.5%</td>\n",
       "                        <td id=\"T_14136_row6_col2\" class=\"data row6 col2\" >31.3%</td>\n",
       "                        <td id=\"T_14136_row6_col3\" class=\"data row6 col3\" >-16.3%</td>\n",
       "                        <td id=\"T_14136_row6_col4\" class=\"data row6 col4\" >21.2%</td>\n",
       "            </tr>\n",
       "            <tr>\n",
       "                        <th id=\"T_14136_level0_row7\" class=\"row_heading level0 row7\" >Utils</th>\n",
       "                        <td id=\"T_14136_row7_col0\" class=\"data row7 col0\" >7.5%</td>\n",
       "                        <td id=\"T_14136_row7_col1\" class=\"data row7 col1\" >13.8%</td>\n",
       "                        <td id=\"T_14136_row7_col2\" class=\"data row7 col2\" >54.3%</td>\n",
       "                        <td id=\"T_14136_row7_col3\" class=\"data row7 col3\" >-13.1%</td>\n",
       "                        <td id=\"T_14136_row7_col4\" class=\"data row7 col4\" >11.2%</td>\n",
       "            </tr>\n",
       "            <tr>\n",
       "                        <th id=\"T_14136_level0_row8\" class=\"row_heading level0 row8\" >Shops</th>\n",
       "                        <td id=\"T_14136_row8_col0\" class=\"data row8 col0\" >9.7%</td>\n",
       "                        <td id=\"T_14136_row8_col1\" class=\"data row8 col1\" >16.1%</td>\n",
       "                        <td id=\"T_14136_row8_col2\" class=\"data row8 col2\" >60.3%</td>\n",
       "                        <td id=\"T_14136_row8_col3\" class=\"data row8 col3\" >-15.2%</td>\n",
       "                        <td id=\"T_14136_row8_col4\" class=\"data row8 col4\" >18.0%</td>\n",
       "            </tr>\n",
       "            <tr>\n",
       "                        <th id=\"T_14136_level0_row9\" class=\"row_heading level0 row9\" >Hlth</th>\n",
       "                        <td id=\"T_14136_row9_col0\" class=\"data row9 col0\" >9.7%</td>\n",
       "                        <td id=\"T_14136_row9_col1\" class=\"data row9 col1\" >15.3%</td>\n",
       "                        <td id=\"T_14136_row9_col2\" class=\"data row9 col2\" >63.3%</td>\n",
       "                        <td id=\"T_14136_row9_col3\" class=\"data row9 col3\" >-12.7%</td>\n",
       "                        <td id=\"T_14136_row9_col4\" class=\"data row9 col4\" >16.2%</td>\n",
       "            </tr>\n",
       "            <tr>\n",
       "                        <th id=\"T_14136_level0_row10\" class=\"row_heading level0 row10\" >Money</th>\n",
       "                        <td id=\"T_14136_row10_col0\" class=\"data row10 col0\" >9.3%</td>\n",
       "                        <td id=\"T_14136_row10_col1\" class=\"data row10 col1\" >19.5%</td>\n",
       "                        <td id=\"T_14136_row10_col2\" class=\"data row10 col2\" >47.9%</td>\n",
       "                        <td id=\"T_14136_row10_col3\" class=\"data row10 col3\" >-22.6%</td>\n",
       "                        <td id=\"T_14136_row10_col4\" class=\"data row10 col4\" >17.1%</td>\n",
       "            </tr>\n",
       "            <tr>\n",
       "                        <th id=\"T_14136_level0_row11\" class=\"row_heading level0 row11\" >Other</th>\n",
       "                        <td id=\"T_14136_row11_col0\" class=\"data row11 col0\" >6.0%</td>\n",
       "                        <td id=\"T_14136_row11_col1\" class=\"data row11 col1\" >17.2%</td>\n",
       "                        <td id=\"T_14136_row11_col2\" class=\"data row11 col2\" >34.9%</td>\n",
       "                        <td id=\"T_14136_row11_col3\" class=\"data row11 col3\" >-20.8%</td>\n",
       "                        <td id=\"T_14136_row11_col4\" class=\"data row11 col4\" >15.4%</td>\n",
       "            </tr>\n",
       "    </tbody></table>"
      ],
      "text/plain": [
       "<pandas.io.formats.style.Styler at 0x10debb520>"
      ]
     },
     "metadata": {},
     "output_type": "display_data"
    }
   ],
   "source": [
    "display(performanceMetrics(assets,annualization=12).style.format('{:.1%}'))"
   ]
  },
  {
   "cell_type": "code",
   "execution_count": 9,
   "metadata": {},
   "outputs": [
    {
     "data": {
      "image/png": "[encoded data removed]",
      "text/plain": [
       "<Figure size 432x288 with 2 Axes>"
      ]
     },
     "metadata": {
      "needs_background": "light"
     },
     "output_type": "display_data"
    }
   ],
   "source": [
    "sns.heatmap((assets.corr()).replace(1,np.nan), cmap=\"icefire\")\n",
    "plt.show()"
   ]
  },
  {
   "cell_type": "code",
   "execution_count": 10,
   "metadata": {},
   "outputs": [
    {
     "data": {
      "image/png": "[encoded data removed]",
      "text/plain": [
       "<Figure size 864x360 with 2 Axes>"
      ]
     },
     "metadata": {
      "needs_background": "light"
     },
     "output_type": "display_data"
    }
   ],
   "source": [
    "metrics = pd.DataFrame(assets.mean(),columns=['historic mean']) * FREQ\n",
    "metrics['volatility'] = assets.std() * np.sqrt(FREQ)\n",
    "metrics['VaR'] = assets.quantile(.05)\n",
    "\n",
    "fig, ax = plt.subplots(1,2,figsize=(12,5))\n",
    "metrics.plot.scatter(ax=ax[0], x='historic mean',y='volatility')\n",
    "metrics.plot.scatter(ax=ax[1], x='historic mean',y='VaR')\n",
    "plt.show()"
   ]
  },
  {
   "cell_type": "markdown",
   "metadata": {},
   "source": [
    "# 2. CAPM"
   ]
  },
  {
   "cell_type": "markdown",
   "metadata": {},
   "source": [
    "### Testing the model"
   ]
  },
  {
   "cell_type": "code",
   "execution_count": 11,
   "metadata": {},
   "outputs": [
    {
     "data": {
      "text/html": [
       "<style  type=\"text/css\" >\n",
       "</style><table id=\"T_2d529_\" ><thead>    <tr>        <th class=\"blank level0\" ></th>        <th class=\"col_heading level0 col0\" >alpha</th>        <th class=\"col_heading level0 col1\" >MKT</th>        <th class=\"col_heading level0 col2\" >r-squared</th>        <th class=\"col_heading level0 col3\" >Treynor Ratio</th>        <th class=\"col_heading level0 col4\" >Info Ratio</th>    </tr></thead><tbody>\n",
       "                <tr>\n",
       "                        <th id=\"T_2d529_level0_row0\" class=\"row_heading level0 row0\" >NoDur</th>\n",
       "                        <td id=\"T_2d529_row0_col0\" class=\"data row0 col0\" >3.3%</td>\n",
       "                        <td id=\"T_2d529_row0_col1\" class=\"data row0 col1\" >63.1%</td>\n",
       "                        <td id=\"T_2d529_row0_col2\" class=\"data row0 col2\" >52.9%</td>\n",
       "                        <td id=\"T_2d529_row0_col3\" class=\"data row0 col3\" >13.6%</td>\n",
       "                        <td id=\"T_2d529_row0_col4\" class=\"data row0 col4\" >36.0%</td>\n",
       "            </tr>\n",
       "            <tr>\n",
       "                        <th id=\"T_2d529_level0_row1\" class=\"row_heading level0 row1\" >Durbl</th>\n",
       "                        <td id=\"T_2d529_row1_col0\" class=\"data row1 col0\" >-0.8%</td>\n",
       "                        <td id=\"T_2d529_row1_col1\" class=\"data row1 col1\" >136.1%</td>\n",
       "                        <td id=\"T_2d529_row1_col2\" class=\"data row1 col2\" >58.5%</td>\n",
       "                        <td id=\"T_2d529_row1_col3\" class=\"data row1 col3\" >7.8%</td>\n",
       "                        <td id=\"T_2d529_row1_col4\" class=\"data row1 col4\" >-4.8%</td>\n",
       "            </tr>\n",
       "            <tr>\n",
       "                        <th id=\"T_2d529_level0_row2\" class=\"row_heading level0 row2\" >Manuf</th>\n",
       "                        <td id=\"T_2d529_row2_col0\" class=\"data row2 col0\" >0.8%</td>\n",
       "                        <td id=\"T_2d529_row2_col1\" class=\"data row2 col1\" >110.3%</td>\n",
       "                        <td id=\"T_2d529_row2_col2\" class=\"data row2 col2\" >82.3%</td>\n",
       "                        <td id=\"T_2d529_row2_col3\" class=\"data row2 col3\" >9.2%</td>\n",
       "                        <td id=\"T_2d529_row2_col4\" class=\"data row2 col4\" >10.3%</td>\n",
       "            </tr>\n",
       "            <tr>\n",
       "                        <th id=\"T_2d529_level0_row3\" class=\"row_heading level0 row3\" >Enrgy</th>\n",
       "                        <td id=\"T_2d529_row3_col0\" class=\"data row3 col0\" >1.6%</td>\n",
       "                        <td id=\"T_2d529_row3_col1\" class=\"data row3 col1\" >84.4%</td>\n",
       "                        <td id=\"T_2d529_row3_col2\" class=\"data row3 col2\" >33.9%</td>\n",
       "                        <td id=\"T_2d529_row3_col3\" class=\"data row3 col3\" >10.3%</td>\n",
       "                        <td id=\"T_2d529_row3_col4\" class=\"data row3 col4\" >8.8%</td>\n",
       "            </tr>\n",
       "            <tr>\n",
       "                        <th id=\"T_2d529_level0_row4\" class=\"row_heading level0 row4\" >Chems</th>\n",
       "                        <td id=\"T_2d529_row4_col0\" class=\"data row4 col0\" >2.1%</td>\n",
       "                        <td id=\"T_2d529_row4_col1\" class=\"data row4 col1\" >76.6%</td>\n",
       "                        <td id=\"T_2d529_row4_col2\" class=\"data row4 col2\" >61.9%</td>\n",
       "                        <td id=\"T_2d529_row4_col3\" class=\"data row4 col3\" >11.2%</td>\n",
       "                        <td id=\"T_2d529_row4_col4\" class=\"data row4 col4\" >23.3%</td>\n",
       "            </tr>\n",
       "            <tr>\n",
       "                        <th id=\"T_2d529_level0_row5\" class=\"row_heading level0 row5\" >BusEq</th>\n",
       "                        <td id=\"T_2d529_row5_col0\" class=\"data row5 col0\" >1.2%</td>\n",
       "                        <td id=\"T_2d529_row5_col1\" class=\"data row5 col1\" >133.5%</td>\n",
       "                        <td id=\"T_2d529_row5_col2\" class=\"data row5 col2\" >74.3%</td>\n",
       "                        <td id=\"T_2d529_row5_col3\" class=\"data row5 col3\" >9.4%</td>\n",
       "                        <td id=\"T_2d529_row5_col4\" class=\"data row5 col4\" >10.3%</td>\n",
       "            </tr>\n",
       "            <tr>\n",
       "                        <th id=\"T_2d529_level0_row6\" class=\"row_heading level0 row6\" >Telcm</th>\n",
       "                        <td id=\"T_2d529_row6_col0\" class=\"data row6 col0\" >-2.3%</td>\n",
       "                        <td id=\"T_2d529_row6_col1\" class=\"data row6 col1\" >92.4%</td>\n",
       "                        <td id=\"T_2d529_row6_col2\" class=\"data row6 col2\" >64.2%</td>\n",
       "                        <td id=\"T_2d529_row6_col3\" class=\"data row6 col3\" >5.9%</td>\n",
       "                        <td id=\"T_2d529_row6_col4\" class=\"data row6 col4\" >-22.1%</td>\n",
       "            </tr>\n",
       "            <tr>\n",
       "                        <th id=\"T_2d529_level0_row7\" class=\"row_heading level0 row7\" >Utils</th>\n",
       "                        <td id=\"T_2d529_row7_col0\" class=\"data row7 col0\" >4.1%</td>\n",
       "                        <td id=\"T_2d529_row7_col1\" class=\"data row7 col1\" >40.9%</td>\n",
       "                        <td id=\"T_2d529_row7_col2\" class=\"data row7 col2\" >20.2%</td>\n",
       "                        <td id=\"T_2d529_row7_col3\" class=\"data row7 col3\" >18.3%</td>\n",
       "                        <td id=\"T_2d529_row7_col4\" class=\"data row7 col4\" >32.8%</td>\n",
       "            </tr>\n",
       "            <tr>\n",
       "                        <th id=\"T_2d529_level0_row8\" class=\"row_heading level0 row8\" >Shops</th>\n",
       "                        <td id=\"T_2d529_row8_col0\" class=\"data row8 col0\" >2.1%</td>\n",
       "                        <td id=\"T_2d529_row8_col1\" class=\"data row8 col1\" >89.4%</td>\n",
       "                        <td id=\"T_2d529_row8_col2\" class=\"data row8 col2\" >71.6%</td>\n",
       "                        <td id=\"T_2d529_row8_col3\" class=\"data row8 col3\" >10.8%</td>\n",
       "                        <td id=\"T_2d529_row8_col4\" class=\"data row8 col4\" >24.9%</td>\n",
       "            </tr>\n",
       "            <tr>\n",
       "                        <th id=\"T_2d529_level0_row9\" class=\"row_heading level0 row9\" >Hlth</th>\n",
       "                        <td id=\"T_2d529_row9_col0\" class=\"data row9 col0\" >3.6%</td>\n",
       "                        <td id=\"T_2d529_row9_col1\" class=\"data row9 col1\" >72.1%</td>\n",
       "                        <td id=\"T_2d529_row9_col2\" class=\"data row9 col2\" >51.0%</td>\n",
       "                        <td id=\"T_2d529_row9_col3\" class=\"data row9 col3\" >13.4%</td>\n",
       "                        <td id=\"T_2d529_row9_col4\" class=\"data row9 col4\" >33.7%</td>\n",
       "            </tr>\n",
       "            <tr>\n",
       "                        <th id=\"T_2d529_level0_row10\" class=\"row_heading level0 row10\" >Money</th>\n",
       "                        <td id=\"T_2d529_row10_col0\" class=\"data row10 col0\" >0.1%</td>\n",
       "                        <td id=\"T_2d529_row10_col1\" class=\"data row10 col1\" >109.2%</td>\n",
       "                        <td id=\"T_2d529_row10_col2\" class=\"data row10 col2\" >72.2%</td>\n",
       "                        <td id=\"T_2d529_row10_col3\" class=\"data row10 col3\" >8.6%</td>\n",
       "                        <td id=\"T_2d529_row10_col4\" class=\"data row10 col4\" >1.3%</td>\n",
       "            </tr>\n",
       "            <tr>\n",
       "                        <th id=\"T_2d529_level0_row11\" class=\"row_heading level0 row11\" >Other</th>\n",
       "                        <td id=\"T_2d529_row11_col0\" class=\"data row11 col0\" >-2.9%</td>\n",
       "                        <td id=\"T_2d529_row11_col1\" class=\"data row11 col1\" >105.0%</td>\n",
       "                        <td id=\"T_2d529_row11_col2\" class=\"data row11 col2\" >86.4%</td>\n",
       "                        <td id=\"T_2d529_row11_col3\" class=\"data row11 col3\" >5.7%</td>\n",
       "                        <td id=\"T_2d529_row11_col4\" class=\"data row11 col4\" >-45.4%</td>\n",
       "            </tr>\n",
       "    </tbody></table>"
      ],
      "text/plain": [
       "<pandas.io.formats.style.Styler at 0x122d3a220>"
      ]
     },
     "metadata": {},
     "output_type": "display_data"
    }
   ],
   "source": [
    "regs_capm = get_ols_metrics(facs['MKT'],assets,annualization=FREQ)\n",
    "display(regs_capm.style.format('{:.1%}'))"
   ]
  },
  {
   "cell_type": "markdown",
   "metadata": {},
   "source": [
    "### Plot CAPM Fit\n",
    "\n",
    "Plotting market beta against historic mean.\n",
    "\n",
    "If CAPM fit, the scatter plot would (nearly) fit the line."
   ]
  },
  {
   "cell_type": "code",
   "execution_count": 12,
   "metadata": {},
   "outputs": [
    {
     "data": {
      "image/png": "[encoded data removed]",
      "text/plain": [
       "<Figure size 720x360 with 1 Axes>"
      ]
     },
     "metadata": {
      "needs_background": "light"
     },
     "output_type": "display_data"
    }
   ],
   "source": [
    "df = pd.DataFrame()\n",
    "df['historic mean'] = assets.mean() * FREQ\n",
    "df['mkt beta'] = regs_capm[['MKT']]\n",
    "df.reset_index(inplace=True)\n",
    "\n",
    "ax = sns.regplot(x='mkt beta',y='historic mean',data=df)\n",
    "df[['mkt beta','historic mean','index']].apply(lambda x: ax.text(*x),axis=1);\n",
    "plt.gcf().set_size_inches(10,5)\n",
    "plt.show()"
   ]
  },
  {
   "cell_type": "markdown",
   "metadata": {},
   "source": [
    "# 3. Multi-factor Models"
   ]
  },
  {
   "cell_type": "markdown",
   "metadata": {},
   "source": [
    "### Testing the model"
   ]
  },
  {
   "cell_type": "code",
   "execution_count": 13,
   "metadata": {},
   "outputs": [
    {
     "data": {
      "text/html": [
       "<style  type=\"text/css\" >\n",
       "</style><table id=\"T_7859b_\" ><thead>    <tr>        <th class=\"blank level0\" ></th>        <th class=\"col_heading level0 col0\" >alpha</th>        <th class=\"col_heading level0 col1\" >MKT</th>        <th class=\"col_heading level0 col2\" >SMB</th>        <th class=\"col_heading level0 col3\" >HML</th>        <th class=\"col_heading level0 col4\" >UMD</th>        <th class=\"col_heading level0 col5\" >r-squared</th>        <th class=\"col_heading level0 col6\" >Info Ratio</th>    </tr></thead><tbody>\n",
       "                <tr>\n",
       "                        <th id=\"T_7859b_level0_row0\" class=\"row_heading level0 row0\" >NoDur</th>\n",
       "                        <td id=\"T_7859b_row0_col0\" class=\"data row0 col0\" >2.6%</td>\n",
       "                        <td id=\"T_7859b_row0_col1\" class=\"data row0 col1\" >69.3%</td>\n",
       "                        <td id=\"T_7859b_row0_col2\" class=\"data row0 col2\" >-22.4%</td>\n",
       "                        <td id=\"T_7859b_row0_col3\" class=\"data row0 col3\" >18.1%</td>\n",
       "                        <td id=\"T_7859b_row0_col4\" class=\"data row0 col4\" >1.8%</td>\n",
       "                        <td id=\"T_7859b_row0_col5\" class=\"data row0 col5\" >59.3%</td>\n",
       "                        <td id=\"T_7859b_row0_col6\" class=\"data row0 col6\" >30.6%</td>\n",
       "            </tr>\n",
       "            <tr>\n",
       "                        <th id=\"T_7859b_level0_row1\" class=\"row_heading level0 row1\" >Durbl</th>\n",
       "                        <td id=\"T_7859b_row1_col0\" class=\"data row1 col0\" >0.3%</td>\n",
       "                        <td id=\"T_7859b_row1_col1\" class=\"data row1 col1\" >128.3%</td>\n",
       "                        <td id=\"T_7859b_row1_col2\" class=\"data row1 col2\" >22.6%</td>\n",
       "                        <td id=\"T_7859b_row1_col3\" class=\"data row1 col3\" >39.0%</td>\n",
       "                        <td id=\"T_7859b_row1_col4\" class=\"data row1 col4\" >-25.3%</td>\n",
       "                        <td id=\"T_7859b_row1_col5\" class=\"data row1 col5\" >64.5%</td>\n",
       "                        <td id=\"T_7859b_row1_col6\" class=\"data row1 col6\" >1.8%</td>\n",
       "            </tr>\n",
       "            <tr>\n",
       "                        <th id=\"T_7859b_level0_row2\" class=\"row_heading level0 row2\" >Manuf</th>\n",
       "                        <td id=\"T_7859b_row2_col0\" class=\"data row2 col0\" >0.7%</td>\n",
       "                        <td id=\"T_7859b_row2_col1\" class=\"data row2 col1\" >109.0%</td>\n",
       "                        <td id=\"T_7859b_row2_col2\" class=\"data row2 col2\" >9.9%</td>\n",
       "                        <td id=\"T_7859b_row2_col3\" class=\"data row2 col3\" >26.7%</td>\n",
       "                        <td id=\"T_7859b_row2_col4\" class=\"data row2 col4\" >-7.2%</td>\n",
       "                        <td id=\"T_7859b_row2_col5\" class=\"data row2 col5\" >85.7%</td>\n",
       "                        <td id=\"T_7859b_row2_col6\" class=\"data row2 col6\" >10.3%</td>\n",
       "            </tr>\n",
       "            <tr>\n",
       "                        <th id=\"T_7859b_level0_row3\" class=\"row_heading level0 row3\" >Enrgy</th>\n",
       "                        <td id=\"T_7859b_row3_col0\" class=\"data row3 col0\" >-0.2%</td>\n",
       "                        <td id=\"T_7859b_row3_col1\" class=\"data row3 col1\" >89.5%</td>\n",
       "                        <td id=\"T_7859b_row3_col2\" class=\"data row3 col2\" >10.0%</td>\n",
       "                        <td id=\"T_7859b_row3_col3\" class=\"data row3 col3\" >66.4%</td>\n",
       "                        <td id=\"T_7859b_row3_col4\" class=\"data row3 col4\" >1.3%</td>\n",
       "                        <td id=\"T_7859b_row3_col5\" class=\"data row3 col5\" >44.4%</td>\n",
       "                        <td id=\"T_7859b_row3_col6\" class=\"data row3 col6\" >-1.5%</td>\n",
       "            </tr>\n",
       "            <tr>\n",
       "                        <th id=\"T_7859b_level0_row4\" class=\"row_heading level0 row4\" >Chems</th>\n",
       "                        <td id=\"T_7859b_row4_col0\" class=\"data row4 col0\" >1.6%</td>\n",
       "                        <td id=\"T_7859b_row4_col1\" class=\"data row4 col1\" >81.3%</td>\n",
       "                        <td id=\"T_7859b_row4_col2\" class=\"data row4 col2\" >-17.0%</td>\n",
       "                        <td id=\"T_7859b_row4_col3\" class=\"data row4 col3\" >21.2%</td>\n",
       "                        <td id=\"T_7859b_row4_col4\" class=\"data row4 col4\" >-1.2%</td>\n",
       "                        <td id=\"T_7859b_row4_col5\" class=\"data row4 col5\" >66.8%</td>\n",
       "                        <td id=\"T_7859b_row4_col6\" class=\"data row4 col6\" >19.0%</td>\n",
       "            </tr>\n",
       "            <tr>\n",
       "                        <th id=\"T_7859b_level0_row5\" class=\"row_heading level0 row5\" >BusEq</th>\n",
       "                        <td id=\"T_7859b_row5_col0\" class=\"data row5 col0\" >3.9%</td>\n",
       "                        <td id=\"T_7859b_row5_col1\" class=\"data row5 col1\" >120.7%</td>\n",
       "                        <td id=\"T_7859b_row5_col2\" class=\"data row5 col2\" >18.3%</td>\n",
       "                        <td id=\"T_7859b_row5_col3\" class=\"data row5 col3\" >-64.3%</td>\n",
       "                        <td id=\"T_7859b_row5_col4\" class=\"data row5 col4\" >-11.5%</td>\n",
       "                        <td id=\"T_7859b_row5_col5\" class=\"data row5 col5\" >84.2%</td>\n",
       "                        <td id=\"T_7859b_row5_col6\" class=\"data row5 col6\" >41.9%</td>\n",
       "            </tr>\n",
       "            <tr>\n",
       "                        <th id=\"T_7859b_level0_row6\" class=\"row_heading level0 row6\" >Telcm</th>\n",
       "                        <td id=\"T_7859b_row6_col0\" class=\"data row6 col0\" >-1.8%</td>\n",
       "                        <td id=\"T_7859b_row6_col1\" class=\"data row6 col1\" >93.3%</td>\n",
       "                        <td id=\"T_7859b_row6_col2\" class=\"data row6 col2\" >-16.8%</td>\n",
       "                        <td id=\"T_7859b_row6_col3\" class=\"data row6 col3\" >-3.6%</td>\n",
       "                        <td id=\"T_7859b_row6_col4\" class=\"data row6 col4\" >-5.7%</td>\n",
       "                        <td id=\"T_7859b_row6_col5\" class=\"data row6 col5\" >65.4%</td>\n",
       "                        <td id=\"T_7859b_row6_col6\" class=\"data row6 col6\" >-17.4%</td>\n",
       "            </tr>\n",
       "            <tr>\n",
       "                        <th id=\"T_7859b_level0_row7\" class=\"row_heading level0 row7\" >Utils</th>\n",
       "                        <td id=\"T_7859b_row7_col0\" class=\"data row7 col0\" >2.2%</td>\n",
       "                        <td id=\"T_7859b_row7_col1\" class=\"data row7 col1\" >51.3%</td>\n",
       "                        <td id=\"T_7859b_row7_col2\" class=\"data row7 col2\" >-21.9%</td>\n",
       "                        <td id=\"T_7859b_row7_col3\" class=\"data row7 col3\" >31.2%</td>\n",
       "                        <td id=\"T_7859b_row7_col4\" class=\"data row7 col4\" >11.9%</td>\n",
       "                        <td id=\"T_7859b_row7_col5\" class=\"data row7 col5\" >30.4%</td>\n",
       "                        <td id=\"T_7859b_row7_col6\" class=\"data row7 col6\" >19.0%</td>\n",
       "            </tr>\n",
       "            <tr>\n",
       "                        <th id=\"T_7859b_level0_row8\" class=\"row_heading level0 row8\" >Shops</th>\n",
       "                        <td id=\"T_7859b_row8_col0\" class=\"data row8 col0\" >2.3%</td>\n",
       "                        <td id=\"T_7859b_row8_col1\" class=\"data row8 col1\" >89.5%</td>\n",
       "                        <td id=\"T_7859b_row8_col2\" class=\"data row8 col2\" >-3.2%</td>\n",
       "                        <td id=\"T_7859b_row8_col3\" class=\"data row8 col3\" >-0.6%</td>\n",
       "                        <td id=\"T_7859b_row8_col4\" class=\"data row8 col4\" >-1.5%</td>\n",
       "                        <td id=\"T_7859b_row8_col5\" class=\"data row8 col5\" >71.7%</td>\n",
       "                        <td id=\"T_7859b_row8_col6\" class=\"data row8 col6\" >26.5%</td>\n",
       "            </tr>\n",
       "            <tr>\n",
       "                        <th id=\"T_7859b_level0_row9\" class=\"row_heading level0 row9\" >Hlth</th>\n",
       "                        <td id=\"T_7859b_row9_col0\" class=\"data row9 col0\" >3.4%</td>\n",
       "                        <td id=\"T_7859b_row9_col1\" class=\"data row9 col1\" >76.1%</td>\n",
       "                        <td id=\"T_7859b_row9_col2\" class=\"data row9 col2\" >-19.6%</td>\n",
       "                        <td id=\"T_7859b_row9_col3\" class=\"data row9 col3\" >-15.1%</td>\n",
       "                        <td id=\"T_7859b_row9_col4\" class=\"data row9 col4\" >6.6%</td>\n",
       "                        <td id=\"T_7859b_row9_col5\" class=\"data row9 col5\" >54.2%</td>\n",
       "                        <td id=\"T_7859b_row9_col6\" class=\"data row9 col6\" >32.9%</td>\n",
       "            </tr>\n",
       "            <tr>\n",
       "                        <th id=\"T_7859b_level0_row10\" class=\"row_heading level0 row10\" >Money</th>\n",
       "                        <td id=\"T_7859b_row10_col0\" class=\"data row10 col0\" >-1.0%</td>\n",
       "                        <td id=\"T_7859b_row10_col1\" class=\"data row10 col1\" >115.5%</td>\n",
       "                        <td id=\"T_7859b_row10_col2\" class=\"data row10 col2\" >-13.2%</td>\n",
       "                        <td id=\"T_7859b_row10_col3\" class=\"data row10 col3\" >60.1%</td>\n",
       "                        <td id=\"T_7859b_row10_col4\" class=\"data row10 col4\" >-5.9%</td>\n",
       "                        <td id=\"T_7859b_row10_col5\" class=\"data row10 col5\" >86.4%</td>\n",
       "                        <td id=\"T_7859b_row10_col6\" class=\"data row10 col6\" >-13.8%</td>\n",
       "            </tr>\n",
       "            <tr>\n",
       "                        <th id=\"T_7859b_level0_row11\" class=\"row_heading level0 row11\" >Other</th>\n",
       "                        <td id=\"T_7859b_row11_col0\" class=\"data row11 col0\" >-3.0%</td>\n",
       "                        <td id=\"T_7859b_row11_col1\" class=\"data row11 col1\" >103.5%</td>\n",
       "                        <td id=\"T_7859b_row11_col2\" class=\"data row11 col2\" >11.8%</td>\n",
       "                        <td id=\"T_7859b_row11_col3\" class=\"data row11 col3\" >20.5%</td>\n",
       "                        <td id=\"T_7859b_row11_col4\" class=\"data row11 col4\" >-4.6%</td>\n",
       "                        <td id=\"T_7859b_row11_col5\" class=\"data row11 col5\" >88.7%</td>\n",
       "                        <td id=\"T_7859b_row11_col6\" class=\"data row11 col6\" >-52.1%</td>\n",
       "            </tr>\n",
       "    </tbody></table>"
      ],
      "text/plain": [
       "<pandas.io.formats.style.Styler at 0x12312c0d0>"
      ]
     },
     "metadata": {},
     "output_type": "display_data"
    }
   ],
   "source": [
    "regs_facs = get_ols_metrics(facs,assets,annualization=FREQ)\n",
    "display(regs_facs.style.format('{:.1%}'))"
   ]
  },
  {
   "cell_type": "markdown",
   "metadata": {},
   "source": [
    "## Comparison"
   ]
  },
  {
   "cell_type": "markdown",
   "metadata": {},
   "source": [
    "### Not using any pricing model"
   ]
  },
  {
   "cell_type": "code",
   "execution_count": 14,
   "metadata": {},
   "outputs": [],
   "source": [
    "unconditional_mean_all = assets.mean().mean()\n",
    "alphas_none = (assets.mean()-unconditional_mean_all)"
   ]
  },
  {
   "cell_type": "code",
   "execution_count": 15,
   "metadata": {},
   "outputs": [
    {
     "data": {
      "text/html": [
       "<style  type=\"text/css\" >\n",
       "</style><table id=\"T_d1765_\" ><thead>    <tr>        <th class=\"blank level0\" ></th>        <th class=\"col_heading level0 col0\" >MAE</th>    </tr></thead><tbody>\n",
       "                <tr>\n",
       "                        <th id=\"T_d1765_level0_row0\" class=\"row_heading level0 row0\" >none</th>\n",
       "                        <td id=\"T_d1765_row0_col0\" class=\"data row0 col0\" >1.4%</td>\n",
       "            </tr>\n",
       "            <tr>\n",
       "                        <th id=\"T_d1765_level0_row1\" class=\"row_heading level0 row1\" >CAPM</th>\n",
       "                        <td id=\"T_d1765_row1_col0\" class=\"data row1 col0\" >2.1%</td>\n",
       "            </tr>\n",
       "            <tr>\n",
       "                        <th id=\"T_d1765_level0_row2\" class=\"row_heading level0 row2\" >Multi</th>\n",
       "                        <td id=\"T_d1765_row2_col0\" class=\"data row2 col0\" >1.9%</td>\n",
       "            </tr>\n",
       "    </tbody></table>"
      ],
      "text/plain": [
       "<pandas.io.formats.style.Styler at 0x12305d670>"
      ]
     },
     "execution_count": 15,
     "metadata": {},
     "output_type": "execute_result"
    }
   ],
   "source": [
    "MAE = pd.DataFrame(index=['none','CAPM','Multi'],dtype=float,columns=['MAE']) \n",
    "MAE.loc['CAPM'] = regs_capm['alpha'].abs().mean() \n",
    "MAE.loc['Multi'] = regs_facs['alpha'].abs().mean()\n",
    "MAE.loc['none'] = alphas_none.abs().mean() * FREQ\n",
    "MAE.style.format('{:.1%}')"
   ]
  },
  {
   "cell_type": "markdown",
   "metadata": {},
   "source": [
    "# 4. Extras"
   ]
  },
  {
   "cell_type": "markdown",
   "metadata": {},
   "source": [
    "## Factor Models and MV Efficiency"
   ]
  },
  {
   "cell_type": "code",
   "execution_count": 16,
   "metadata": {},
   "outputs": [
    {
     "data": {
      "text/html": [
       "<style  type=\"text/css\" >\n",
       "</style><table id=\"T_86f19_\" ><thead>    <tr>        <th class=\"blank level0\" ></th>        <th class=\"col_heading level0 col0\" >NoDur</th>        <th class=\"col_heading level0 col1\" >Durbl</th>        <th class=\"col_heading level0 col2\" >Manuf</th>        <th class=\"col_heading level0 col3\" >Enrgy</th>        <th class=\"col_heading level0 col4\" >Chems</th>        <th class=\"col_heading level0 col5\" >BusEq</th>        <th class=\"col_heading level0 col6\" >Telcm</th>        <th class=\"col_heading level0 col7\" >Utils</th>        <th class=\"col_heading level0 col8\" >Shops</th>        <th class=\"col_heading level0 col9\" >Hlth</th>        <th class=\"col_heading level0 col10\" >Money</th>        <th class=\"col_heading level0 col11\" >Other</th>        <th class=\"col_heading level0 col12\" >MKT</th>        <th class=\"col_heading level0 col13\" >SMB</th>        <th class=\"col_heading level0 col14\" >HML</th>        <th class=\"col_heading level0 col15\" >UMD</th>    </tr></thead><tbody>\n",
       "                <tr>\n",
       "                        <th id=\"T_86f19_level0_row0\" class=\"row_heading level0 row0\" >tangency wts</th>\n",
       "                        <td id=\"T_86f19_row0_col0\" class=\"data row0 col0\" >14.8%</td>\n",
       "                        <td id=\"T_86f19_row0_col1\" class=\"data row0 col1\" >7.3%</td>\n",
       "                        <td id=\"T_86f19_row0_col2\" class=\"data row0 col2\" >29.7%</td>\n",
       "                        <td id=\"T_86f19_row0_col3\" class=\"data row0 col3\" >8.4%</td>\n",
       "                        <td id=\"T_86f19_row0_col4\" class=\"data row0 col4\" >18.0%</td>\n",
       "                        <td id=\"T_86f19_row0_col5\" class=\"data row0 col5\" >62.6%</td>\n",
       "                        <td id=\"T_86f19_row0_col6\" class=\"data row0 col6\" >11.2%</td>\n",
       "                        <td id=\"T_86f19_row0_col7\" class=\"data row0 col7\" >15.6%</td>\n",
       "                        <td id=\"T_86f19_row0_col8\" class=\"data row0 col8\" >28.2%</td>\n",
       "                        <td id=\"T_86f19_row0_col9\" class=\"data row0 col9\" >31.6%</td>\n",
       "                        <td id=\"T_86f19_row0_col10\" class=\"data row0 col10\" >22.9%</td>\n",
       "                        <td id=\"T_86f19_row0_col11\" class=\"data row0 col11\" >-47.4%</td>\n",
       "                        <td id=\"T_86f19_row0_col12\" class=\"data row0 col12\" >-170.9%</td>\n",
       "                        <td id=\"T_86f19_row0_col13\" class=\"data row0 col13\" >10.7%</td>\n",
       "                        <td id=\"T_86f19_row0_col14\" class=\"data row0 col14\" >31.3%</td>\n",
       "                        <td id=\"T_86f19_row0_col15\" class=\"data row0 col15\" >26.0%</td>\n",
       "            </tr>\n",
       "    </tbody></table>"
      ],
      "text/plain": [
       "<pandas.io.formats.style.Styler at 0x122c04d60>"
      ]
     },
     "metadata": {},
     "output_type": "display_data"
    },
    {
     "data": {
      "text/html": [
       "<style  type=\"text/css\" >\n",
       "</style><table id=\"T_d33f3_\" ><thead>    <tr>        <th class=\"blank level0\" ></th>        <th class=\"col_heading level0 col0\" >MKT</th>        <th class=\"col_heading level0 col1\" >SMB</th>        <th class=\"col_heading level0 col2\" >HML</th>        <th class=\"col_heading level0 col3\" >UMD</th>    </tr></thead><tbody>\n",
       "                <tr>\n",
       "                        <th id=\"T_d33f3_level0_row0\" class=\"row_heading level0 row0\" >tangency wts</th>\n",
       "                        <td id=\"T_d33f3_row0_col0\" class=\"data row0 col0\" >39.6%</td>\n",
       "                        <td id=\"T_d33f3_row0_col1\" class=\"data row0 col1\" >0.4%</td>\n",
       "                        <td id=\"T_d33f3_row0_col2\" class=\"data row0 col2\" >28.9%</td>\n",
       "                        <td id=\"T_d33f3_row0_col3\" class=\"data row0 col3\" >31.0%</td>\n",
       "            </tr>\n",
       "    </tbody></table>"
      ],
      "text/plain": [
       "<pandas.io.formats.style.Styler at 0x123104370>"
      ]
     },
     "metadata": {},
     "output_type": "display_data"
    }
   ],
   "source": [
    "wts_tan_all = tangency_weights(assets.join(facs))\n",
    "display(wts_tan_all.T.style.format('{:.1%}'))\n",
    "\n",
    "wts_tan_facs = tangency_weights(facs)\n",
    "display(wts_tan_facs.T.style.format('{:.1%}'))"
   ]
  },
  {
   "cell_type": "code",
   "execution_count": 17,
   "metadata": {
    "scrolled": false
   },
   "outputs": [
    {
     "data": {
      "image/png": "[encoded data removed]",
      "text/plain": [
       "<Figure size 720x432 with 1 Axes>"
      ]
     },
     "metadata": {
      "needs_background": "light"
     },
     "output_type": "display_data"
    }
   ],
   "source": [
    "wts_tan = pd.concat([wts_tan_facs,wts_tan_all],axis=1)\n",
    "wts_tan.plot.barh(figsize=(10,6));"
   ]
  },
  {
   "cell_type": "markdown",
   "metadata": {},
   "source": [
    "## Testing Pricing Models with Cross-Sectional Regressions\n",
    "\n",
    "Regress $\\overline{r}^i$ on $\\hat{\\boldsymbol{\\beta}^i}$ from the previous time-series regressions."
   ]
  },
  {
   "cell_type": "code",
   "execution_count": 18,
   "metadata": {},
   "outputs": [
    {
     "name": "stdout",
     "output_type": "stream",
     "text": [
      "                            OLS Regression Results                            \n",
      "==============================================================================\n",
      "Dep. Variable:                      y   R-squared:                       0.299\n",
      "Model:                            OLS   Adj. R-squared:                 -0.101\n",
      "Method:                 Least Squares   F-statistic:                    0.7481\n",
      "Date:                Sun, 03 Jul 2022   Prob (F-statistic):              0.589\n",
      "Time:                        22:25:47   Log-Likelihood:                 62.786\n",
      "No. Observations:                  12   AIC:                            -115.6\n",
      "Df Residuals:                       7   BIC:                            -113.1\n",
      "Df Model:                           4                                         \n",
      "Covariance Type:            nonrobust                                         \n",
      "==============================================================================\n",
      "                 coef    std err          t      P>|t|      [0.025      0.975]\n",
      "------------------------------------------------------------------------------\n",
      "const          0.0056      0.005      1.066      0.322      -0.007       0.018\n",
      "MKT            0.0023      0.006      0.404      0.698      -0.011       0.016\n",
      "SMB            0.0023      0.005      0.476      0.649      -0.009       0.014\n",
      "HML           -0.0013      0.001     -0.897      0.399      -0.005       0.002\n",
      "UMD            0.0017      0.013      0.136      0.896      -0.029       0.032\n",
      "==============================================================================\n",
      "Omnibus:                       10.599   Durbin-Watson:                   1.810\n",
      "Prob(Omnibus):                  0.005   Jarque-Bera (JB):                6.086\n",
      "Skew:                          -1.671   Prob(JB):                       0.0477\n",
      "Kurtosis:                       3.999   Cond. No.                         40.9\n",
      "==============================================================================\n",
      "\n",
      "Notes:\n",
      "[1] Standard Errors assume that the covariance matrix of the errors is correctly specified.\n"
     ]
    },
    {
     "name": "stderr",
     "output_type": "stream",
     "text": [
      "/Users/markhendricks/Projects/FINM/finm-quant-2022/venv/lib/python3.9/site-packages/scipy/stats/stats.py:1603: UserWarning: kurtosistest only valid for n>=20 ... continuing anyway, n=12\n",
      "  warnings.warn(\"kurtosistest only valid for n>=20 ... continuing \"\n"
     ]
    }
   ],
   "source": [
    "X = regs_facs[['MKT','SMB','HML','UMD']]\n",
    "y = assets.mean()\n",
    "reg_cs = sm.OLS(y,sm.add_constant(X)).fit()\n",
    "print(reg_cs.summary())"
   ]
  },
  {
   "cell_type": "markdown",
   "metadata": {},
   "source": [
    "We see that the R-squared is much less than 1, which means the betas do not fully explain expected returns.\n",
    "\n",
    "The estimated intercept is near zero (and statistically insignficant,) so the issue is not that the expected returns are too high/low. Rather, it is that their variation does not correspond to variation in betas.\n",
    "\n",
    "The estimated factor premium for HML is **negative**! And it is the most statistically significant factor. This throws doubt on the idea that the value factor is a source of premium--maybe we should be considering the growth factor!"
   ]
  },
  {
   "cell_type": "markdown",
   "metadata": {},
   "source": [
    "### Plotting multifactor models\n",
    "\n",
    "Given that there are multiple factors, we can't plot a single beta against the historic mean returns.\n",
    "\n",
    "Rather, we can use the cross-sectional regression to fit the model-expected-return and plot that against the historic mean returns.\n",
    "\n",
    "If the model fit, all the points would line up on the 45-degree line, (one-for-one.) "
   ]
  },
  {
   "cell_type": "code",
   "execution_count": null,
   "metadata": {},
   "outputs": [],
   "source": [
    "df = pd.DataFrame(columns=['mean return','predicted return'])\n",
    "df['mean return'] = y \n",
    "df['predicted return'] = reg_cs.predict(sm.add_constant(X))\n",
    "df *= FREQ\n",
    "\n",
    "fig, ax = plt.subplots(figsize=(12,7)) \n",
    "df.plot(ax=ax, x='predicted return',y='mean return',kind='scatter',color='blue') \n",
    "\n",
    "y_line = np.arange(df.min().min(), df.max().max(), .005) \n",
    "x_line = y_line\n",
    "ax.plot(y_line, x_line,color='k');\n",
    "\n",
    "df.reset_index(inplace=True)\n",
    "df[['predicted return','mean return','index']].apply(lambda x: ax.text(*x),axis=1);"
   ]
  }
 ],
 "metadata": {
  "hide_input": false,
  "kernelspec": {
   "display_name": "Python 3 (ipykernel)",
   "language": "python",
   "name": "python3"
  },
  "language_info": {
   "codemirror_mode": {
    "name": "ipython",
    "version": 3
   },
   "file_extension": ".py",
   "mimetype": "text/x-python",
   "name": "python",
   "nbconvert_exporter": "python",
   "pygments_lexer": "ipython3",
   "version": "3.9.6"
  }
 },
 "nbformat": 4,
 "nbformat_minor": 2
}
